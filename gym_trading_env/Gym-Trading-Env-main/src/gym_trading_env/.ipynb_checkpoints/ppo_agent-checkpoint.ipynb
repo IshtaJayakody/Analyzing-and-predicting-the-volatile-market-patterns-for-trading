{
 "cells": [
  {
   "cell_type": "code",
   "execution_count": null,
   "id": "3b8cfe40",
   "metadata": {},
   "outputs": [],
   "source": [
    "import numpy as np\n",
    "\n",
    "import pandas as pd\n",
    "# Available in the github repo : examples/data/BTC_USD-Hourly.csv\n",
    "url = \"https://raw.githubusercontent.com/ClementPerroud/Gym-Trading-Env/main/examples/data/BTC_USD-Hourly.csv\"\n",
    "df = pd.read_csv(url, parse_dates=[\"date\"], index_col= \"date\")\n",
    "df.sort_index(inplace= True)\n",
    "df.dropna(inplace= True)\n",
    "df.drop_duplicates(inplace=True)"
   ]
  },
  {
   "cell_type": "code",
   "execution_count": null,
   "id": "e5a77313",
   "metadata": {},
   "outputs": [],
   "source": [
    "# df is a DataFrame with columns : \"open\", \"high\", \"low\", \"close\", \"Volume USD\"\n",
    "\n",
    "# Create the feature : ( close[t] - close[t-1] )/ close[t-1]\n",
    "df[\"feature_close\"] = df[\"close\"].pct_change()\n",
    "\n",
    "# Create the feature : open[t] / close[t]\n",
    "df[\"feature_open\"] = df[\"open\"]/df[\"close\"]\n",
    "\n",
    "# Create the feature : high[t] / close[t]\n",
    "df[\"feature_high\"] = df[\"high\"]/df[\"close\"]\n",
    "\n",
    "# Create the feature : low[t] / close[t]\n",
    "df[\"feature_low\"] = df[\"low\"]/df[\"close\"]\n",
    "\n",
    " # Create the feature : volume[t] / max(*volume[t-7*24:t+1])\n",
    "df[\"feature_volume\"] = df[\"Volume USD\"] / df[\"Volume USD\"].rolling(7*24).max()\n",
    "\n",
    "df.dropna(inplace= True) # Clean again !\n",
    "# Eatch step, the environment will return 5 inputs  : \"feature_close\", \"feature_open\", \"feature_high\", \"feature_low\", \"feature_volume\""
   ]
  },
  {
   "cell_type": "code",
   "execution_count": null,
   "id": "d91a4ecf",
   "metadata": {},
   "outputs": [],
   "source": [
    "import gymnasium as gym\n",
    "import environments\n",
    "\n",
    "#from environments import TradingEnv"
   ]
  },
  {
   "cell_type": "code",
   "execution_count": null,
   "id": "b55d2289",
   "metadata": {},
   "outputs": [],
   "source": [
    "import gym_trading_env"
   ]
  },
  {
   "cell_type": "code",
   "execution_count": null,
   "id": "6bc7db2b",
   "metadata": {},
   "outputs": [],
   "source": [
    "#import gymnasium as gym\n",
    "#import gym_trading_env\n",
    "#env = gym.make('MultiDatasetTradingEnv',\n",
    "#    dataset_dir = 'preprocessed_data/*.pkl',\n",
    "#    positions=[-1, 0, 1],  # -1 (=SHORT), 0(=OUT), +1 (=LONG)\n",
    "#)"
   ]
  },
  {
   "cell_type": "code",
   "execution_count": null,
   "id": "fb3aab86",
   "metadata": {},
   "outputs": [],
   "source": [
    "# Run 10 episodes\n",
    "#for _ in range(10):\n",
    "  # At every episode, the env will pick a new dataset.\n",
    "#  done, truncated = False, False\n",
    "#  observation, info = env.reset()\n",
    "#  while not done and not truncated:\n",
    "#      position_index = env.action_space.sample() # Pick random position index\n",
    "#      observation, reward, done, truncated, info = env.step(position_index)"
   ]
  },
  {
   "cell_type": "code",
   "execution_count": null,
   "id": "cf2e0aaa",
   "metadata": {},
   "outputs": [],
   "source": [
    "from environments import TradingEnv\n",
    "\n",
    "# Create the environment directly\n",
    "env = TradingEnv(\n",
    "    name=\"BTCUSD\",\n",
    "    df=df,  # Your dataset with your custom features\n",
    "    positions=[-0.8, 0.0, 0.8],  # -1 (=SHORT), 0(=OUT), +1 (=LONG)\n",
    "    trading_fees=0.01/100,  # 0.01% per stock buy/sell (Binance fees)\n",
    "    borrow_interest_rate=0.0003/100,  # 0.0003% per timestep (one timestep = 1h here)\n",
    ")"
   ]
  },
  {
   "cell_type": "code",
   "execution_count": null,
   "id": "f6c06ef6",
   "metadata": {},
   "outputs": [],
   "source": [
    "from stable_baselines3 import PPO\n",
    "from stable_baselines3 import SAC\n",
    "from stable_baselines3.common.vec_env import VecEnv"
   ]
  },
  {
   "cell_type": "code",
   "execution_count": null,
   "id": "86b708fb",
   "metadata": {},
   "outputs": [],
   "source": [
    "policy = \"MlpPolicy\""
   ]
  },
  {
   "cell_type": "code",
   "execution_count": null,
   "id": "2815176e",
   "metadata": {},
   "outputs": [],
   "source": [
    "model = PPO(policy, env, verbose=1)"
   ]
  },
  {
   "cell_type": "code",
   "execution_count": null,
   "id": "4e1599b6",
   "metadata": {},
   "outputs": [],
   "source": [
    "# Experiment with different hyperparameters based on your problem and environment\n",
    "model = PPO(\n",
    "    \"MlpPolicy\",\n",
    "    env,\n",
    "    verbose=1,\n",
    "    learning_rate=0.001,  # Adjust as needed\n",
    "    batch_size=32,  # Adjust based on memory and learning speed\n",
    "    gamma=0.99,  # Discount factor\n",
    ")\n"
   ]
  },
  {
   "cell_type": "code",
   "execution_count": null,
   "id": "81bb9d64",
   "metadata": {},
   "outputs": [],
   "source": [
    "model.learn(total_timesteps=200000)"
   ]
  },
  {
   "cell_type": "code",
   "execution_count": null,
   "id": "8d5f7e8d",
   "metadata": {},
   "outputs": [],
   "source": [
    "model.save(\"my_trading_agent\")"
   ]
  },
  {
   "cell_type": "code",
   "execution_count": null,
   "id": "651b4d13",
   "metadata": {},
   "outputs": [],
   "source": [
    "# Create the environment directly\n",
    "env2 = TradingEnv(\n",
    "    name=\"BTCUSD\",\n",
    "    df=df,  # Your dataset with your custom features\n",
    "    positions=[-0.8, 0, 0.8],  # -1 (=SHORT), 0(=OUT), +1 (=LONG)\n",
    "    trading_fees=0.01/100,  # 0.01% per stock buy/sell (Binance fees)\n",
    "    borrow_interest_rate=0.0003/100,  # 0.0003% per timestep (one timestep = 1h here)\n",
    ")"
   ]
  },
  {
   "cell_type": "code",
   "execution_count": null,
   "id": "d5493032",
   "metadata": {},
   "outputs": [],
   "source": [
    "# Run an episode until it ends :\n",
    "done, truncated = False, False\n",
    "obs, info = env2.reset()\n",
    "while not done and not truncated:\n",
    "    action, _ = model.predict(obs)\n",
    "    obs, reward, done, truncated, info = env2.step(action)\n",
    "    # ... (evaluate further)"
   ]
  },
  {
   "cell_type": "code",
   "execution_count": null,
   "id": "4be557bd",
   "metadata": {},
   "outputs": [],
   "source": [
    "# At the end of the episode you want to render\n",
    "env2.unwrapped.save_for_render(dir=\"render_logs\")"
   ]
  }
 ],
 "metadata": {
  "kernelspec": {
   "display_name": "Python 3 (ipykernel)",
   "language": "python",
   "name": "python3"
  },
  "language_info": {
   "codemirror_mode": {
    "name": "ipython",
    "version": 3
   },
   "file_extension": ".py",
   "mimetype": "text/x-python",
   "name": "python",
   "nbconvert_exporter": "python",
   "pygments_lexer": "ipython3",
   "version": "3.11.5"
  }
 },
 "nbformat": 4,
 "nbformat_minor": 5
}
