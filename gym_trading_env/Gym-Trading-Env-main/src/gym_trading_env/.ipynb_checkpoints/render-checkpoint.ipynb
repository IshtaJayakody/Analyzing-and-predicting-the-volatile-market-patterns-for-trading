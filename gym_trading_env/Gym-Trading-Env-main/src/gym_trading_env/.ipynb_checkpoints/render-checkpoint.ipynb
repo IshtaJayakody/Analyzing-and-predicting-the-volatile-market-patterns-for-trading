{
 "cells": [
  {
   "cell_type": "markdown",
   "id": "51dc727f",
   "metadata": {},
   "source": [
    "# **Render[#](https://gym-trading-env.readthedocs.io/en/latest/render.html#render)**\n",
    "\n",
    "**Note**\n",
    "\n",
    "The render runs with `Flask` on localhost as a web app, and the charts are drawn with the `pyecharts` librairy.\n",
    "\n",
    "## **Your first render**\n",
    "\n",
    "For the render not to perturb the training, it needs to be performed in a separate python script. This way you can explore your episode results without disturbing your RL-agent training.\n",
    "\n",
    "In the *running environment script*, you need to save your render logs :\n",
    "\n",
    "`env.unwrapped.save_for_render(dir=\"render_logs\")`"
   ]
  },
  {
   "cell_type": "code",
   "execution_count": 1,
   "id": "f31a6953",
   "metadata": {},
   "outputs": [
    {
     "ename": "ModuleNotFoundError",
     "evalue": "No module named 'gym_trading_env'",
     "output_type": "error",
     "traceback": [
      "\u001b[0;31m---------------------------------------------------------------------------\u001b[0m",
      "\u001b[0;31mModuleNotFoundError\u001b[0m                       Traceback (most recent call last)",
      "Cell \u001b[0;32mIn[1], line 1\u001b[0m\n\u001b[0;32m----> 1\u001b[0m \u001b[38;5;28;01mfrom\u001b[39;00m \u001b[38;5;21;01mgym_trading_env\u001b[39;00m\u001b[38;5;21;01m.\u001b[39;00m\u001b[38;5;21;01mrenderer\u001b[39;00m \u001b[38;5;28;01mimport\u001b[39;00m Renderer\n\u001b[1;32m      2\u001b[0m \u001b[38;5;28;01mimport\u001b[39;00m \u001b[38;5;21;01mpandas\u001b[39;00m \u001b[38;5;28;01mas\u001b[39;00m \u001b[38;5;21;01mpd\u001b[39;00m\n\u001b[1;32m      4\u001b[0m renderer \u001b[38;5;241m=\u001b[39m Renderer(render_logs_dir\u001b[38;5;241m=\u001b[39m\u001b[38;5;124m\"\u001b[39m\u001b[38;5;124mrender_logs\u001b[39m\u001b[38;5;124m\"\u001b[39m)\n",
      "\u001b[0;31mModuleNotFoundError\u001b[0m: No module named 'gym_trading_env'"
     ]
    }
   ],
   "source": [
    "from gym_trading_env.renderer import Renderer\n",
    "import pandas as pd\n",
    "\n",
    "renderer = Renderer(render_logs_dir=\"render_logs\")\n",
    "\n",
    "# Add Custom Lines (Simple Moving Average)\n",
    "renderer.add_line( name= \"sma10\", function= lambda df : df[\"close\"].rolling(10).mean(), line_options ={\"width\" : 1, \"color\": \"purple\"})\n",
    "renderer.add_line( name= \"sma20\", function= lambda df : df[\"close\"].rolling(20).mean(), line_options ={\"width\" : 1, \"color\": \"blue\"})\n",
    "\n",
    "# Add Custom Metrics (Annualized metrics)\n",
    "renderer.add_metric(\n",
    "    name = \"Annual Market Return\",\n",
    "    function = lambda df : f\"{ ((df['close'].iloc[-1] / df['close'].iloc[0])**(pd.Timedelta(days=365)/(df.index.values[-1] - df.index.values[0]))-1)*100:0.2f}%\"\n",
    ")\n",
    "renderer.add_metric(\n",
    "        name = \"Annual Portfolio Return\",\n",
    "        function = lambda df : f\"{((df['portfolio_valuation'].iloc[-1] / df['portfolio_valuation'].iloc[0])**(pd.Timedelta(days=365)/(df.index.values[-1] - df.index.values[0]))-1)*100:0.2f}%\"\n",
    ")\n",
    "\n",
    "renderer.run()"
   ]
  },
  {
   "cell_type": "code",
   "execution_count": null,
   "id": "f01b659d",
   "metadata": {},
   "outputs": [],
   "source": []
  },
  {
   "cell_type": "code",
   "execution_count": null,
   "id": "4220fa2e",
   "metadata": {},
   "outputs": [],
   "source": []
  }
 ],
 "metadata": {
  "kernelspec": {
   "display_name": "Python 3 (ipykernel)",
   "language": "python",
   "name": "python3"
  },
  "language_info": {
   "codemirror_mode": {
    "name": "ipython",
    "version": 3
   },
   "file_extension": ".py",
   "mimetype": "text/x-python",
   "name": "python",
   "nbconvert_exporter": "python",
   "pygments_lexer": "ipython3",
   "version": "3.11.5"
  }
 },
 "nbformat": 4,
 "nbformat_minor": 5
}
